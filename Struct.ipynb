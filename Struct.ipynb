{
 "cells": [
  {
   "cell_type": "code",
   "execution_count": 134,
   "metadata": {
    "collapsed": false
   },
   "outputs": [
    {
     "data": {
      "text/html": [
       "<br/><b style='font-size:30px;margin:5%;;'>sudo apt-get install ipython3</b><br/><br/><b style='font-size:30px;margin:5%;;'>ipython3 notebook</b>"
      ],
      "text/plain": [
       "<IPython.core.display.HTML object>"
      ]
     },
     "execution_count": 134,
     "metadata": {},
     "output_type": "execute_result"
    }
   ],
   "source": [
    "from IPython.display import HTML\n",
    "HTML(\"<br/><b style='font-size:30px;margin:5%;;'>sudo apt-get install ipython3</b><br/><br/><b style='font-size:30px;margin:5%;;'>ipython3 notebook</b>\")"
   ]
  },
  {
   "cell_type": "code",
   "execution_count": 145,
   "metadata": {
    "collapsed": false
   },
   "outputs": [],
   "source": [
    "# log - fonksiyonun adı, çalışma tarihini ve çalışma süresini yaz\n",
    "from functools import wraps, partial\n",
    "import datetime, time\n",
    "def log(func=None, *, prefix=\"\"):\n",
    "    if func is None: return partial(log, prefix=prefix)\n",
    "    # func -> Loglanacak fonksiyon\n",
    "    @wraps(func) # functaki özellikleri wrapper'a aktarır\n",
    "    def wrapper(*args, **kwargs):\n",
    "        start = time.clock()\n",
    "        try:\n",
    "            return func(*args, **kwargs)\n",
    "        finally:\n",
    "            stop = time.clock()\n",
    "            print(\"{} {} fonksiyonu {} tarihinde çalıştırıldı ve {}sn sürdü\".format(\n",
    "                    prefix,\n",
    "                    func.__qualname__,\n",
    "                    datetime.date.today(),\n",
    "                    stop-start\n",
    "                ))\n",
    "    return wrapper\n",
    "\n",
    "def clslog(cls, prefix=\"\"):\n",
    "    for key, val in vars(cls).items():\n",
    "        if callable(val):\n",
    "            setattr(cls, key, log(val, prefix=prefix))\n",
    "    return cls\n",
    "\n",
    "# type('A', (), {})\n",
    "\n",
    "class generic_type(type):\n",
    "    \n",
    "    def __new__(cls, name, parents, clsdict):\n",
    "        print(\"cls logger\")\n",
    "        clsobj = super().__new__(cls, name, parents, clsdict)\n",
    "        new = clslog(clsobj)\n",
    "        return new"
   ]
  },
  {
   "cell_type": "code",
   "execution_count": 146,
   "metadata": {
    "collapsed": true
   },
   "outputs": [],
   "source": [
    "class User:\n",
    "\n",
    "    def __init__(self, name, email, age, passwd):\n",
    "        self.name = name\n",
    "        self.email = email\n",
    "        self.age = age\n",
    "        self.passwd = passwd\n",
    "\n",
    "class Point:\n",
    "\n",
    "    def __init__(self, x, y):\n",
    "        self.x = x\n",
    "        self.y = y\n",
    "\n",
    "class Connection:\n",
    "    \n",
    "    def __init__(self, user, hostname, port):\n",
    "        self.user = user\n",
    "        self.hostname = hostname\n",
    "        self.port = port\n",
    "    "
   ]
  },
  {
   "cell_type": "code",
   "execution_count": 147,
   "metadata": {
    "collapsed": false
   },
   "outputs": [],
   "source": [
    "u = User(name='mehmet', email='@gmail.com', age=23, passwd='asd')"
   ]
  },
  {
   "cell_type": "code",
   "execution_count": 148,
   "metadata": {
    "collapsed": false
   },
   "outputs": [
    {
     "data": {
      "text/plain": [
       "{'age': 23, 'email': '@gmail.com', 'name': 'mehmet', 'passwd': 'asd'}"
      ]
     },
     "execution_count": 148,
     "metadata": {},
     "output_type": "execute_result"
    }
   ],
   "source": [
    "u.__dict__"
   ]
  },
  {
   "cell_type": "code",
   "execution_count": 149,
   "metadata": {
    "collapsed": true
   },
   "outputs": [],
   "source": [
    "from inspect import Signature, Parameter\n",
    "\n",
    "def make_signature(fields):\n",
    "    return Signature(Parameter(name, Parameter.POSITIONAL_OR_KEYWORD) for name in fields)"
   ]
  },
  {
   "cell_type": "code",
   "execution_count": null,
   "metadata": {
    "collapsed": false
   },
   "outputs": [],
   "source": []
  },
  {
   "cell_type": "code",
   "execution_count": 140,
   "metadata": {
    "collapsed": true
   },
   "outputs": [],
   "source": [
    "from collections import OrderedDict\n",
    "\n",
    "class struct_meta(type):\n",
    "    @classmethod\n",
    "    def __prepare__(cls, name, bases):\n",
    "        return OrderedDict()\n",
    "    \n",
    "    def __new__(cls, clsname, bases, clsdict):\n",
    "        fields = [key for key, val in clsdict.items() \n",
    "                  if isinstance(val, Descriptor)]\n",
    "        for name in fields:\n",
    "            clsdict[name].name = name\n",
    "            \n",
    "        clsobj = super().__new__(cls, clsname, bases, dict(clsdict))\n",
    "        clsobj = clslog(clsobj)\n",
    "        sign = make_signature(fields)\n",
    "        setattr(clsobj, \"__signature__\", sign)\n",
    "        return clsobj"
   ]
  },
  {
   "cell_type": "code",
   "execution_count": null,
   "metadata": {
    "collapsed": true
   },
   "outputs": [],
   "source": []
  },
  {
   "cell_type": "code",
   "execution_count": 141,
   "metadata": {
    "collapsed": false
   },
   "outputs": [],
   "source": [
    "class Struct(metaclass=struct_meta):\n",
    "    _fields = []\n",
    "    def __init__(self, *args, **kwargs):\n",
    "        bound = self.__signature__.bind(*args, *kwargs)\n",
    "        for key, value in bound.arguments.items():\n",
    "            setattr(self, key, value)\n",
    "            \n"
   ]
  },
  {
   "cell_type": "code",
   "execution_count": 142,
   "metadata": {
    "collapsed": false
   },
   "outputs": [],
   "source": [
    "class Descriptor:\n",
    "    def __init__(self, name=None):\n",
    "        self.name = name\n",
    "    \n",
    "    def __set__(self, instance, value):\n",
    "        print(\"set\", value)\n",
    "        instance.__dict__[self.name]=value\n",
    "        \n",
    "    def __delete__(self, instance):\n",
    "        print(\"del\", self.name)\n",
    "        del instance.__dict__[self.name]\n",
    "        \n",
    "class Typed(Descriptor):\n",
    "    ty = object\n",
    "    def __set__(self, instance, value):\n",
    "        if not isinstance(value, self.ty):\n",
    "            raise TypeError(\"Expected {}\", self.ty)\n",
    "        return super().__set__(instance, value)\n",
    "\n",
    "class Integer(Typed):\n",
    "    ty = int\n",
    "\n",
    "class String(Typed):\n",
    "    ty = str\n",
    "\n",
    "class Float(Typed):\n",
    "    ty = float"
   ]
  },
  {
   "cell_type": "code",
   "execution_count": 143,
   "metadata": {
    "collapsed": false
   },
   "outputs": [],
   "source": [
    "class User(Struct):\n",
    "    name = String()\n",
    "    email = String()\n",
    "    age = Integer()\n",
    "    passwd = Integer()\n",
    "    \n",
    "class Point(Struct):\n",
    "    x = Float()\n",
    "    y = Float()\n",
    "    \n",
    "class Connection(Struct):\n",
    "    user = String()\n",
    "    hostname = String()\n",
    "    port = Integer()"
   ]
  },
  {
   "cell_type": "code",
   "execution_count": 144,
   "metadata": {
    "collapsed": false
   },
   "outputs": [
    {
     "name": "stdout",
     "output_type": "stream",
     "text": [
      "set mehmet\n",
      "set @hotmail.com\n",
      "set 12\n",
      "set 23\n",
      " Struct.__init__ fonksiyonu 2016-10-21 tarihinde çalıştırıldı ve 9.999999999976694e-05sn sürdü\n"
     ]
    }
   ],
   "source": [
    "u = User('mehmet', '@hotmail.com', 12, 23)"
   ]
  },
  {
   "cell_type": "code",
   "execution_count": null,
   "metadata": {
    "collapsed": true
   },
   "outputs": [],
   "source": []
  }
 ],
 "metadata": {
  "kernelspec": {
   "display_name": "Python 3",
   "language": "python",
   "name": "python3"
  },
  "language_info": {
   "codemirror_mode": {
    "name": "ipython",
    "version": 3
   },
   "file_extension": ".py",
   "mimetype": "text/x-python",
   "name": "python",
   "nbconvert_exporter": "python",
   "pygments_lexer": "ipython3",
   "version": "3.5.2"
  }
 },
 "nbformat": 4,
 "nbformat_minor": 1
}
